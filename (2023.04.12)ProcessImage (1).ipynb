{
 "cells": [
  {
   "cell_type": "code",
   "execution_count": 4,
   "id": "b91ac298",
   "metadata": {},
   "outputs": [],
   "source": [
    "import cv2\n",
    "import numpy as np\n",
    "from PIL import Image, ImageDraw\n",
    "from IPython.display import display\n",
    "from PIL.ExifTags import TAGS\n",
    "import math\n",
    "import time\n",
    "from datetime import datetime"
   ]
  },
  {
   "cell_type": "markdown",
   "id": "23c35340",
   "metadata": {},
   "source": [
    "CROP THE ORIGINAL IMAGE INTO A SQUARE THAT IS TANGENT TO THE RECEIVER"
   ]
  },
  {
   "cell_type": "code",
   "execution_count": 62,
   "id": "adca52ca",
   "metadata": {},
   "outputs": [],
   "source": [
    "def crop_square(image_path):\n",
    "    img = Image.open(image_path)\n",
    "    try:\n",
    "        for orientation in TAGS.keys():\n",
    "            if TAGS[orientation]=='Orientation':\n",
    "                break\n",
    "        exif=dict(img._getexif().items())\n",
    "        if exif[orientation] == 3:\n",
    "            img = img.transpose(Image.ROTATE_180)\n",
    "        elif exif[orientation] == 6:\n",
    "            img = img.transpose(Image.ROTATE_270)\n",
    "        elif exif[orientation] == 8:\n",
    "            img = img.transpose(Image.ROTATE_90)\n",
    "    except (AttributeError, KeyError, IndexError):\n",
    "        # cases where image does not have an orientation tag\n",
    "        pass\n",
    "    cropped_img = img.crop((190,555, img.width-170, img.height-690))\n",
    "    cropped_image_path = image_path.replace('.jpg', '_cropped.jpg')\n",
    "    cropped_img.save(cropped_image_path)\n",
    "    return cropped_image_path"
   ]
  },
  {
   "cell_type": "markdown",
   "id": "97d77857",
   "metadata": {},
   "source": [
    "CALLS THE crop_square FUNCTION AND CROPS THE IMAGE CIRCULARLY OVER THE RECEIVER"
   ]
  },
  {
   "cell_type": "code",
   "execution_count": 63,
   "id": "429914e1",
   "metadata": {},
   "outputs": [],
   "source": [
    "def crop_circle(image_path):\n",
    "    # Load the input image\n",
    "    cropped_path = crop_square(image_path)\n",
    "    img = cv2.imread(cropped_path)\n",
    "    # Define the center and radius of the circular region to be cropped\n",
    "    x = 180\n",
    "    y = 175\n",
    "    radius = (img.shape[1] - 10)//2\n",
    "\n",
    "    # Create a mask of the same shape as the input image\n",
    "    mask = np.zeros_like(img)\n",
    "\n",
    "    # Draw a circle on the mask\n",
    "    cv2.circle(mask, (x, y), radius, (255, 255, 255), -1)\n",
    "\n",
    "    # Apply the mask to the input image\n",
    "    cropped_img = cv2.bitwise_and(img, mask)\n",
    "\n",
    "    # Save the cropped image\n",
    "    cropped_image_path = cropped_path.replace('.jpg', '_circular.jpg')\n",
    "    cv2.imwrite(cropped_image_path, cropped_img)\n",
    "\n",
    "    return cropped_image_path\n",
    "\n"
   ]
  },
  {
   "cell_type": "markdown",
   "id": "2aad53ea",
   "metadata": {},
   "source": [
    "FUNCTION THAT GENERATES A MASK IN ORDER TO CALCULATE THE STANDARD DEVIATION WITHOUT TAKING THE BLACK PART INTO CONSIDERATION"
   ]
  },
  {
   "cell_type": "code",
   "execution_count": 64,
   "id": "1ec417c7",
   "metadata": {},
   "outputs": [],
   "source": [
    "def generate_mask(shape): # shape is the dimensions of the image\n",
    "    # generate a grid of indices for the given shape\n",
    "    x, y = np.indices(shape)\n",
    "    # calculate the center of the circle\n",
    "    center_x, center_y = shape[0] // 2, shape[1] // 2\n",
    "    # calculate the radius of the circle\n",
    "    radius = min(center_x, center_y) - 1\n",
    "    # create a Boolean mask for values inside the circle\n",
    "    mask = (x - center_x)**2 + (y - center_y)**2 <= radius**2\n",
    "    return mask"
   ]
  },
  {
   "cell_type": "code",
   "execution_count": 65,
   "id": "2478164b",
   "metadata": {},
   "outputs": [
    {
     "data": {
      "text/plain": [
       "array([[False, False, False, ..., False, False, False],\n",
       "       [False, False, False, ..., False, False, False],\n",
       "       [False, False, False, ..., False, False, False],\n",
       "       ...,\n",
       "       [False, False, False, ..., False, False, False],\n",
       "       [False, False, False, ..., False, False, False],\n",
       "       [False, False, False, ..., False, False, False]])"
      ]
     },
     "execution_count": 65,
     "metadata": {},
     "output_type": "execute_result"
    }
   ],
   "source": [
    "generate_mask((355,360))"
   ]
  },
  {
   "cell_type": "markdown",
   "id": "13c90e35",
   "metadata": {},
   "source": [
    "FUNCTION THAT CALCULATES THE STD OF A MASKED MATRIX"
   ]
  },
  {
   "cell_type": "code",
   "execution_count": 66,
   "id": "287cd6b7",
   "metadata": {},
   "outputs": [],
   "source": [
    "def calculate_std(matrix, mask):\n",
    "    # convert matrix to numpy array\n",
    "    matrix = np.array(matrix)\n",
    "    # apply mask to matrix\n",
    "    masked_matrix = np.ma.masked_array(matrix, mask=mask)\n",
    "    # calculate the standard deviation along both axis\n",
    "    std = np.std(masked_matrix, axis=None)\n",
    "    return std"
   ]
  },
  {
   "cell_type": "markdown",
   "id": "67cd2d59",
   "metadata": {},
   "source": [
    "FUNCTION THAT PINPOINTS THE AVERAGE BRIGHTEST SPOT AND RETURNS ITS COORDINATES AND THE CENTER OF THE RECEIVER COORDINATES"
   ]
  },
  {
   "cell_type": "code",
   "execution_count": 67,
   "id": "265efd63",
   "metadata": {},
   "outputs": [],
   "source": [
    "def highlight_brightest_group(image_path):\n",
    "\n",
    "    # Open image and convert it to grayscale\n",
    "    img = Image.open(image_path).convert('L')\n",
    "    img_arr = np.array(img)\n",
    "\n",
    "    #Generate mask so that the black part of the photo isn't considered in the calculation of the standard deviation\n",
    "    mask = generate_mask((355, 360))\n",
    "    ecart = calculate_std(img_arr, mask)\n",
    "    # ecart = np.std(img_arr, axis=None)\n",
    "    print(\"Standard deviation: \", ecart)\n",
    "\n",
    "    # Find the group of pixels with the highest brightness average\n",
    "    brightest_group = np.argwhere(img_arr == img_arr.max())\n",
    "    intensity = np.average(brightest_group)\n",
    "    print(\"Intensity : \", intensity)\n",
    "    brightest_x = brightest_group[:,1].mean()\n",
    "    brightest_y = brightest_group[:,0].mean()\n",
    "\n",
    "    # Add a red dot at the center of the brightest group and the center of the circle\n",
    "    draw = ImageDraw.Draw(img)\n",
    "    draw.ellipse((brightest_x-2, brightest_y-2, brightest_x+2, brightest_y+2), fill='red', outline='red')\n",
    "    center_x = img.width//2\n",
    "    center_y = img.height//2\n",
    "    draw.ellipse((center_x-2, center_y-2, center_x+2, center_y+2), fill='red', outline='red')\n",
    "\n",
    "    # Print the coordinates of the brightest group and the center of the circle\n",
    "    print(\"Average brightest pixel coordinates: ({}, {})\".format(int(brightest_x), int(brightest_y)))\n",
    "    print(\"Circle center coordinates: ({}, {})\".format(center_x, center_y))\n",
    "    # img.show(\"Test\")\n",
    "\n",
    "\n",
    "\n",
    "    return center_x, center_y, int(brightest_x), int(brightest_y)"
   ]
  },
  {
   "cell_type": "markdown",
   "id": "6ecffa62",
   "metadata": {},
   "source": [
    "FUNCTION THAT CALCULATES THE ANGLE OF ROTATION NEEDED"
   ]
  },
  {
   "cell_type": "code",
   "execution_count": 68,
   "id": "76a98750",
   "metadata": {},
   "outputs": [],
   "source": [
    "def degree(img_url):\n",
    "    l = highlight_brightest_group(img_url)\n",
    "    x = l[0] - l[2]\n",
    "    y = l[1] - l[3]\n",
    "    opposite = y*0.15\n",
    "    adjacent = 100  # Length of adjacent side\n",
    "    angle_radians = math.atan2(opposite, adjacent)  # Calculate angle in radians\n",
    "    angle_degrees = math.degrees(angle_radians)  # Convert radians to degrees\n",
    "    print(f\"The angle is {angle_radians:.2f} radians or {angle_degrees:.2f} degrees.\")\n",
    "    return angle_degrees"
   ]
  },
  {
   "cell_type": "markdown",
   "id": "aa9b874e",
   "metadata": {},
   "source": [
    "FUNCTION THAT COMPLETES THE WHOLE PROCESS (CROP, CIRCULAR CROP, BRIGHTEST POINT, ANGLE OF ROTATION)"
   ]
  },
  {
   "cell_type": "code",
   "execution_count": 69,
   "id": "6dcd1368",
   "metadata": {},
   "outputs": [],
   "source": [
    "def processImage(image_path):\n",
    "    start_time = time.time()\n",
    "    circular_crop_path = crop_circle(image_path)\n",
    "    degree(circular_crop_path)\n",
    "    end_time = time.time()\n",
    "    print(\"Program run time : \", end_time-start_time, \" seconds.\")\n"
   ]
  },
  {
   "cell_type": "code",
   "execution_count": 70,
   "id": "c8051b3e",
   "metadata": {},
   "outputs": [
    {
     "name": "stdout",
     "output_type": "stream",
     "text": [
      "Standard deviation:  10.224718628536001\n",
      "Intensity :  194.26058441558442\n",
      "Average brightest pixel coordinates: (194, 193)\n",
      "Circle center coordinates: (180, 177)\n",
      "The angle is -0.02 radians or -1.37 degrees.\n",
      "Program run time :  0.050862789154052734  seconds.\n"
     ]
    }
   ],
   "source": [
    "processImage(r\"receiver photos\\omar.jpg\")"
   ]
  },
  {
   "cell_type": "code",
   "execution_count": 71,
   "id": "fdf0c4fe",
   "metadata": {},
   "outputs": [
    {
     "name": "stdout",
     "output_type": "stream",
     "text": [
      "31.08179954514311\n"
     ]
    }
   ],
   "source": [
    "img = Image.open(r\"receiver photos\\cloud1_circular.jpg\").convert('L')\n",
    "img_arr = np.array(img)\n",
    "std = np.std(img_arr, axis=None)\n",
    "print(std)"
   ]
  },
  {
   "cell_type": "code",
   "execution_count": 72,
   "id": "37ff20ac",
   "metadata": {},
   "outputs": [],
   "source": [
    "#runtime\n",
    "#get_intensity"
   ]
  },
  {
   "cell_type": "code",
   "execution_count": 1,
   "id": "dad7fe5a",
   "metadata": {},
   "outputs": [],
   "source": [
    "def JulianDate(year, month, day):\n",
    "    if month <= 2:\n",
    "        year -= 1\n",
    "        month += 12\n",
    "    A = year // 100\n",
    "    B = 2 - A + A // 4\n",
    "    JD_whole = int(365.25 * (year + 4716)) + int(30.6001 * (month + 1)) + day + B - 1524\n",
    "    return JD_whole"
   ]
  },
  {
   "cell_type": "code",
   "execution_count": 2,
   "id": "5182e054",
   "metadata": {},
   "outputs": [
    {
     "data": {
      "text/plain": [
       "2460047"
      ]
     },
     "execution_count": 2,
     "metadata": {},
     "output_type": "execute_result"
    }
   ],
   "source": [
    "JulianDate(2023,4,12)"
   ]
  },
  {
   "cell_type": "code",
   "execution_count": 5,
   "id": "a234a5a3",
   "metadata": {},
   "outputs": [],
   "source": [
    "def assignedate():\n",
    "    now = datetime.now()\n",
    "    year = now.year\n",
    "    month = now.month\n",
    "    zone = 2 #Lebanon is in the Eastern European Time Zone (EET) : UTC\n",
    "    daylightsaving = 1\n",
    "    day = now.day\n",
    "    hour = now.hour - zone - daylightsaving\n",
    "    minute = now.minute\n",
    "    second = now.second\n",
    "    print(\"Current Date & Time: \")\n",
    "    print(year, '/', month, '/', day, ' (', now.strftime(\"%A\"), ') ', now.strftime(\"%H:%M:%S\"))"
   ]
  },
  {
   "cell_type": "code",
   "execution_count": 6,
   "id": "99502ee5",
   "metadata": {},
   "outputs": [
    {
     "name": "stdout",
     "output_type": "stream",
     "text": [
      "Current Date & Time: \n",
      "2023 / 4 / 12  ( Wednesday )  14:24:11\n"
     ]
    }
   ],
   "source": [
    "assignedate()"
   ]
  },
  {
   "cell_type": "code",
   "execution_count": 7,
   "id": "2be96c71",
   "metadata": {},
   "outputs": [],
   "source": [
    "def sunpath():\n",
    "    assignedate()    \n",
    "    ###########\n",
    "    now = datetime.utcnow()\n",
    "    custom_format = now.strftime('%Y-%m-%d %H:%M:%S')\n",
    "    hour = int(custom_format[11:13])\n",
    "    minute = int(custom_format[14:16])\n",
    "    second = int(custom_format[17:19])\n",
    "    year = int(custom_format[:4])\n",
    "    month = int(custom_format[5:7])\n",
    "    day = int(custom_format[8:10])\n",
    "    Lon = math.radians(35.59757830828219)\n",
    "    Lat = math.radians(33.73835537379766)\n",
    "    ###########\n",
    "    , \n",
    "    T, JD_frac, L0, M, e, C, L_true, f, R, GrHrAngle, Obl, RA, Decl, HrAngle, elev, azimuth = 0, 0, 0, 0, 0, 0, 0, 0, 0, 0, 0, 0, 0, 0, 0, 0\n",
    "    JD_whole = JulianDate(year, month, day)\n",
    "\n",
    "    JD_frac = (hour + minute / 60. + second / 3600.) / 24. - .5\n",
    "    T = JD_whole - 2451545\n",
    "    T = (T + JD_frac) / 36525.\n",
    "    L0 = math.radians(math.fmod(280.46645 + 36000.76983 * T,360)) #????\n",
    "    M = math.radians(math.fmod(357.5291 + 35999.0503 * T,360))\n",
    "    e = 0.016708617 - 0.000042037 * T\n",
    "    C = math.radians(((1.9146 - 0.004847 * T) * math.sin(M)) + ((0.019993 - 0.000101 * T) * math.sin(2 * M)) + (0.00029 * math.sin(3 * M)))\n",
    "    f = M + C\n",
    "    Obl = math.radians(23 + 26 / 60. + 21.448 / 3600. - 46.815 / 3600 * T)\n",
    "    JDx = JD_whole - 2451545\n",
    "    GrHrAngle = 280.46061837 + (360 * JDx) % 360 + .98564736629 * JDx + 360.98564736629 * JD_frac\n",
    "    GrHrAngle = math.fmod(GrHrAngle , 360.)\n",
    "    L_true = math.fmod((C + L0), 2 * math.pi)\n",
    "    R = 1.000001018 * (1 - e * e) / (1 + e * math.cos(f))\n",
    "    RA = math.atan2(math.sin(L_true) * math.cos(Obl), math.cos(L_true))\n",
    "    Decl = math.asin(math.sin(Obl) * math.sin(L_true))\n",
    "    HrAngle = math.radians(GrHrAngle) + Lon - RA\n",
    "\n",
    "    elev = math.asin(math.sin(Lat) * math.sin(Decl) + math.cos(Lat) * (math.cos(Decl) * math.cos(HrAngle))) #sun height\n",
    "    # Azimuth measured eastward from north.\n",
    "    azimuth = math.pi + math.atan2(math.sin(HrAngle), math.cos(HrAngle) * math.sin(Lat) - math.tan(Decl) * math.cos(Lat))\n",
    "\n",
    "    print(\"{:.4f}\".format(math.degrees(elev)), end=\",\")\n",
    "    print(\"{:.4f}\".format(math.degrees(azimuth)), end=\",\")\n",
    "    print()\n",
    "    global sunelevation\n",
    "    sunelevation = elev\n",
    "    print(\"sunelevation in RAD is equal to:\", end=\"\")\n",
    "    print(sunelevation)\n",
    "    global sunazimuth\n",
    "    sunazimuth = azimuth / math.pi * 180.\n",
    "    print(\"\")\n",
    "    print(\"sunazimuth in DEG is equal to:\")\n",
    "    print(sunazimuth)\n",
    "    print(\"////////////////////////////////////\")\n",
    "    time.sleep(2)"
   ]
  },
  {
   "cell_type": "code",
   "execution_count": 8,
   "id": "7c2df20e",
   "metadata": {},
   "outputs": [
    {
     "name": "stdout",
     "output_type": "stream",
     "text": [
      "Current Date & Time: \n",
      "2023 / 4 / 12  ( Wednesday )  14:24:35\n",
      "55.0235,230.3615,\n",
      "sunelevation in RAD is equal to:0.9603405758605691\n",
      "\n",
      "sunazimuth in DEG is equal to:\n",
      "230.3614992235293\n",
      "////////////////////////////////////\n"
     ]
    }
   ],
   "source": [
    "sunpath()"
   ]
  }
 ],
 "metadata": {
  "kernelspec": {
   "display_name": "Python 3 (ipykernel)",
   "language": "python",
   "name": "python3"
  },
  "language_info": {
   "codemirror_mode": {
    "name": "ipython",
    "version": 3
   },
   "file_extension": ".py",
   "mimetype": "text/x-python",
   "name": "python",
   "nbconvert_exporter": "python",
   "pygments_lexer": "ipython3",
   "version": "3.9.12"
  }
 },
 "nbformat": 4,
 "nbformat_minor": 5
}
